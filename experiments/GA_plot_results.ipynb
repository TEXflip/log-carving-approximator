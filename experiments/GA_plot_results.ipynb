{
 "cells": [
  {
   "cell_type": "code",
   "execution_count": null,
   "metadata": {},
   "outputs": [],
   "source": [
    "import pandas as pd\n",
    "import numpy as np\n",
    "import matplotlib as mpl\n",
    "import matplotlib.pyplot as plt"
   ]
  },
  {
   "cell_type": "code",
   "execution_count": null,
   "metadata": {},
   "outputs": [],
   "source": [
    "def heatMap(prefix, vals, ylabel=\"\"):\n",
    "    norm = mpl.colors.Normalize(vmin=30, vmax=160)\n",
    "    # mappable = mpl.cm.ScalarMappable(norm=norm, cmap='viridis')\n",
    "\n",
    "    data = []\n",
    "    for s in vals:\n",
    "        exp = []\n",
    "        df = pd.read_json(prefix + s + '_results.json').to_numpy()\n",
    "        for i in range(df.shape[1]):\n",
    "            # ax1.scatter(np.ones((10))*i, df[:,i], s=50, alpha=0.5, c=df[:,i], cmap='magma', norm=norm)\n",
    "            exp.append(df[:,i].mean())\n",
    "        data.append(exp)\n",
    "\n",
    "    fig, ax = plt.subplots()\n",
    "    im = ax.imshow(data, cmap='inferno')\n",
    "\n",
    "\n",
    "    ax.set_xticks(np.arange(10))\n",
    "    ax.set_yticks(np.arange(len(vals)))\n",
    "\n",
    "    ax.set_yticklabels(vals)\n",
    "    ax.set_xlabel(\"cut number\")\n",
    "    ax.set_ylabel(ylabel)\n",
    "\n",
    "    for i in range(len(vals)):\n",
    "        for j in range(10):\n",
    "            ax.text(j, i, \"{:.0f}\".format(data[i][j]), ha=\"center\", va=\"center\", color=\"black\" if j>0 else \"white\")\n",
    "\n",
    "    plt.show()\n",
    "\n",
    "def customScatter(prefix, vals, titles=\"\"):\n",
    "    norm = mpl.colors.Normalize(vmin=30, vmax=160)\n",
    "    cols = len(vals)\n",
    "    fig = plt.figure(figsize=(3.33*cols,2))\n",
    "    gs = fig.add_gridspec(1, cols, hspace=0, wspace=0.05)\n",
    "    axs = gs.subplots(sharey=True)\n",
    "    axs[0].set_ylabel(\"fitness\")\n",
    "\n",
    "    for l,s in enumerate(vals):\n",
    "        axs[l].set_title(titles + s)\n",
    "        axs[l].set_xticks(np.arange(10))\n",
    "        for i in range(10):\n",
    "            df = pd.read_json(prefix + s + '_results.json').to_numpy()\n",
    "            axs[l].scatter(np.ones((10))*i, df[:,i], s=30, alpha=0.5, c=df[:,i], cmap='magma', norm=norm)\n",
    "    plt.show()\n",
    "\n",
    "def lineComparison(prefix, vals, title=\"\"):\n",
    "    from bokeh.palettes import Category10\n",
    "    from matplotlib.ticker import (MultipleLocator, AutoMinorLocator)\n",
    "\n",
    "    ax = plt.subplot()\n",
    "    ax.set_xticks(np.arange(10))\n",
    "    ax.set_ylabel(\"fitness\")\n",
    "    ax.set_xlabel(\"cut number\")\n",
    "    ax.set_title(title)\n",
    "\n",
    "    exp = lambda x: (1.09)**(x)\n",
    "    log = lambda x: np.log(x)/np.log(1.09)\n",
    "\n",
    "    ax.set_yscale('function', functions=(exp, log))\n",
    "\n",
    "    m = 0\n",
    "    for l,s in enumerate(vals):\n",
    "        means = []\n",
    "        df = pd.read_json(prefix+s+'_results.json').to_numpy()\n",
    "        for i in range(10):\n",
    "            m = max(df[:,i].mean(), m)\n",
    "            means.append(df[:,i].mean())\n",
    "        ax.plot(means, c=Category10[10][l], label=s, alpha=1, lw=2.5)\n",
    "\n",
    "    mint = int(m)+1\n",
    "    ax.set(xlim=(-0.3,9.3), ylim=(0, mint))\n",
    "    ax.set_yticks([40]+np.arange( int(mint/5)*5-30,int(mint/5)*5+5,5).tolist()+[mint])\n",
    "    ax.yaxis.set_minor_locator(MultipleLocator(1))\n",
    "    ax.tick_params(which='major', length=5)\n",
    "    ax.grid(b=True, which='major', linestyle='-')\n",
    "    ax.grid(b=True, which='minor', linestyle=':')\n",
    "    plt.legend()\n",
    "    plt.show()"
   ]
  },
  {
   "cell_type": "code",
   "execution_count": null,
   "metadata": {},
   "outputs": [],
   "source": [
    "stdev = ['0.1','0.25','0.5','0.60','0.75','1.00']\n",
    "prefix = 'Genetic Algorithm/stdev/stdev_'\n",
    "\n",
    "# heatMap(prefix, stdev, ylabel=\"std deviation\")\n",
    "lineComparison(prefix, stdev, title=\"std deviation comparison\")"
   ]
  },
  {
   "cell_type": "code",
   "execution_count": null,
   "metadata": {},
   "outputs": [],
   "source": [
    "customScatter('Genetic Algorithm/stdev/stdev_', stdev, titles='standard deviation')"
   ]
  },
  {
   "cell_type": "code",
   "execution_count": null,
   "metadata": {},
   "outputs": [],
   "source": [
    "crate = ['0','0.25','0.5','0.75','1']\n",
    "prefix='Genetic Algorithm/cross_rate/cross_rate_'\n",
    "\n",
    "heatMap(prefix, crate, ylabel=\"crossover rate\")"
   ]
  },
  {
   "cell_type": "code",
   "execution_count": null,
   "metadata": {},
   "outputs": [],
   "source": [
    "customScatter('Genetic Algorithm/cross_rate/cross_rate_', crate, titles='crossover rate ')\n",
    "lineComparison('Genetic Algorithm/cross_rate/cross_rate_', crate, title='crossover rate comparison (with regeneration)')"
   ]
  },
  {
   "cell_type": "code",
   "execution_count": null,
   "metadata": {},
   "outputs": [],
   "source": [
    "crate = ['0','0.25','0.5','0.75','1']\n",
    "prefix = 'Genetic Algorithm/no_regeneration/no_regeneration_cross_'\n",
    "\n",
    "heatMap(prefix, crate, ylabel=\"crossover rate\")"
   ]
  },
  {
   "cell_type": "code",
   "execution_count": null,
   "metadata": {},
   "outputs": [],
   "source": [
    "customScatter('Genetic Algorithm/no_regeneration/no_regeneration_cross_', crate, titles='crossover rate ')\n",
    "lineComparison('Genetic Algorithm/no_regeneration/no_regeneration_cross_', crate, title='crossover rate comparison (no regeneration)')"
   ]
  },
  {
   "cell_type": "code",
   "execution_count": null,
   "metadata": {},
   "outputs": [],
   "source": [
    "from bokeh.palettes import Category10\n",
    "from matplotlib.lines import Line2D\n",
    "fig = plt.figure(figsize=(6,4))\n",
    "gs = fig.add_gridspec(1, 1, hspace=0, wspace=0.1)\n",
    "axs = gs.subplots(sharey=True)\n",
    "axs.grid(b=True, which='major', linestyle='-')\n",
    "\n",
    "axs.set_xticks(np.arange(10))\n",
    "for l,s in enumerate(crate):\n",
    "    df = pd.read_json('Genetic Algorithm/no_regeneration/no_regeneration_cross_'+s+'_results.json').to_numpy()\n",
    "    for i in range(10):\n",
    "        axs.scatter(i, df[:,i].mean(), alpha=0.5, c=Category10[10][0])\n",
    "for l,s in enumerate(crate):\n",
    "    df = pd.read_json('Genetic Algorithm/cross_rate/cross_rate_'+s+'_results.json').to_numpy()\n",
    "    for i in range(10):\n",
    "        axs.scatter(i, df[:,i].mean(), alpha=0.5, c=Category10[10][1])\n",
    "custom_lines = [Line2D([0], [0], marker='o', color='w',markerfacecolor=Category10[10][1], markersize=10),\n",
    "                Line2D([0], [0], marker='o', color='w',markerfacecolor=Category10[10][0], markersize=10)]\n",
    "\n",
    "axs.set_ylabel(\"fitness\")\n",
    "axs.set_xlabel(\"cut number\")\n",
    "plt.legend(custom_lines, ['With Regeneration', 'Without Regeneration'], loc='lower right')\n",
    "plt.show()"
   ]
  },
  {
   "cell_type": "code",
   "execution_count": null,
   "metadata": {},
   "outputs": [],
   "source": [
    "elitism = ['0','1','2','3']\n",
    "\n",
    "# heatMap('Genetic Algorithm/elitism/elitism_', elitism, ylabel=\"elitism size\")\n",
    "lineComparison('Genetic Algorithm/elitism/elitism_', elitism, \"elitism number comparison\")"
   ]
  },
  {
   "cell_type": "code",
   "execution_count": null,
   "metadata": {},
   "outputs": [],
   "source": [
    "mut_rate = ['0.1','0.25','0.5','0.75','1']\n",
    "prefix = 'Genetic Algorithm/mutation rate/mut_rate_'\n",
    "\n",
    "# heatMap(prefix, mut_rate)\n",
    "lineComparison(prefix, mut_rate, \"mutation rate comparison\")"
   ]
  },
  {
   "cell_type": "code",
   "execution_count": null,
   "metadata": {},
   "outputs": [],
   "source": [
    "tourn_size = ['1','2','3','5']\n",
    "prefix = 'Genetic Algorithm/tournament size/tournament_size_'\n",
    "\n",
    "# heatMap(prefix, tourn_size)\n",
    "lineComparison(prefix, tourn_size, \"tournament size comparison\")"
   ]
  },
  {
   "cell_type": "code",
   "execution_count": null,
   "metadata": {},
   "outputs": [],
   "source": [
    "from bokeh.palettes import Category10\n",
    "from matplotlib.ticker import (MultipleLocator, AutoMinorLocator)\n",
    "from matplotlib.lines import Line2D\n",
    "fig = plt.figure(figsize=(6,4))\n",
    "ax = plt.subplot()\n",
    "ax.grid(b=True, which='major', linestyle='-')\n",
    "\n",
    "tau_i = ['None', '0.1','0.2','0.5','1','2', '5']\n",
    "crate = ['0','0.25','0.5','0.75','1']\n",
    "\n",
    "exp = lambda x: (1.09)**(x)\n",
    "log = lambda x: np.log(x)/np.log(1.09)\n",
    "\n",
    "ax.set_yscale('function', functions=(exp, log))\n",
    "\n",
    "ax.set_xticks(np.arange(10))\n",
    "m=0\n",
    "for l,s in enumerate(tau_i):\n",
    "    df = pd.read_json('Evolutionary Strategies/individual/tau_i_'+s+'_results.json').to_numpy()\n",
    "    for i in range(10):\n",
    "        m = max(df[:,i].mean(), m)\n",
    "        ax.scatter(i, df[:,i].mean(), alpha=0.5, c=Category10[10][0])\n",
    "\n",
    "for l,s in enumerate(crate):\n",
    "    df = pd.read_json('Genetic Algorithm/cross_rate/cross_rate_'+s+'_results.json').to_numpy()\n",
    "    for i in range(10):\n",
    "        m = max(df[:,i].mean(), m)\n",
    "        ax.scatter(i, df[:,i].mean(), alpha=0.5, c=Category10[10][1])\n",
    "\n",
    "custom_lines = [Line2D([0], [0], marker='o', color='w',markerfacecolor=Category10[10][1], markersize=10),\n",
    "                Line2D([0], [0], marker='o', color='w',markerfacecolor=Category10[10][0], markersize=10)]\n",
    "\n",
    "mint = int(m)+2\n",
    "ax.set(xlim=(-0.3,9.3), ylim=(0, mint))\n",
    "ax.set_yticks([40]+np.arange( int(mint/5)*5-30,int(mint/5)*5+5,5).tolist()+[mint])\n",
    "ax.yaxis.set_minor_locator(MultipleLocator(1))\n",
    "ax.tick_params(which='major', length=5)\n",
    "ax.grid(b=True, which='major', linestyle='-')\n",
    "ax.grid(b=True, which='minor', linestyle=':')\n",
    "ax.set_ylabel(\"fitness\")\n",
    "ax.set_xlabel(\"cut number\")\n",
    "plt.legend(custom_lines, ['GA', 'ES individual sigma'], loc='lower right')\n",
    "plt.show()"
   ]
  }
 ],
 "metadata": {
  "interpreter": {
   "hash": "66ec00c17016897b9d035f930a915551833694d4d1c1ae7ed40d4c50d2eb0d24"
  },
  "kernelspec": {
   "display_name": "Python 3.8.10 64-bit ('dataViz': conda)",
   "name": "python3"
  },
  "language_info": {
   "codemirror_mode": {
    "name": "ipython",
    "version": 3
   },
   "file_extension": ".py",
   "mimetype": "text/x-python",
   "name": "python",
   "nbconvert_exporter": "python",
   "pygments_lexer": "ipython3",
   "version": "3.8.10"
  },
  "orig_nbformat": 4
 },
 "nbformat": 4,
 "nbformat_minor": 2
}
