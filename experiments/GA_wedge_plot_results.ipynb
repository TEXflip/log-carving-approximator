{
 "cells": [
  {
   "cell_type": "code",
   "execution_count": null,
   "metadata": {},
   "outputs": [],
   "source": [
    "import pandas as pd\n",
    "import numpy as np\n",
    "import matplotlib as mpl\n",
    "import matplotlib.pyplot as plt"
   ]
  },
  {
   "cell_type": "code",
   "execution_count": null,
   "metadata": {},
   "outputs": [],
   "source": [
    "def heatMap(prefix, vals, ylabel=\"\"):\n",
    "    norm = mpl.colors.Normalize(vmin=30, vmax=160)\n",
    "    # mappable = mpl.cm.ScalarMappable(norm=norm, cmap='viridis')\n",
    "\n",
    "    data = []\n",
    "    for s in vals:\n",
    "        exp = []\n",
    "        df = pd.read_json(prefix + s + '_results.json').to_numpy()\n",
    "        for i in range(df.shape[1]):\n",
    "            # ax1.scatter(np.ones((10))*i, df[:,i], s=50, alpha=0.5, c=df[:,i], cmap='magma', norm=norm)\n",
    "            exp.append(df[:,i].mean())\n",
    "        data.append(exp)\n",
    "\n",
    "    fig, ax = plt.subplots()\n",
    "    im = ax.imshow(data, cmap='inferno')\n",
    "\n",
    "\n",
    "    ax.set_xticks(np.arange(10))\n",
    "    ax.set_yticks(np.arange(len(vals)))\n",
    "\n",
    "    ax.set_yticklabels(vals)\n",
    "    ax.set_xlabel(\"cut number\")\n",
    "    ax.set_ylabel(ylabel)\n",
    "\n",
    "    for i in range(len(vals)):\n",
    "        for j in range(10):\n",
    "            ax.text(j, i, \"{:.0f}\".format(data[i][j]), ha=\"center\", va=\"center\", color=\"black\" if j>0 else \"white\")\n",
    "\n",
    "    plt.show()\n",
    "\n",
    "def customScatter(prefix, vals, titles=\"\"):\n",
    "    norm = mpl.colors.Normalize(vmin=30, vmax=160)\n",
    "    cols = len(vals)\n",
    "    fig = plt.figure(figsize=(3.33*cols,2))\n",
    "    gs = fig.add_gridspec(1, cols, hspace=0, wspace=0.05)\n",
    "    axs = gs.subplots(sharey=True)\n",
    "    axs[0].set_ylabel(\"fitness\")\n",
    "\n",
    "    for l,s in enumerate(vals):\n",
    "        axs[l].set_title(titles + s)\n",
    "        axs[l].set_xticks(np.arange(10))\n",
    "        for i in range(10):\n",
    "            df = pd.read_json(prefix + s + '_results.json').to_numpy()\n",
    "            axs[l].scatter(np.ones((10))*i, df[:,i], s=30, alpha=0.5, c=df[:,i], cmap='magma', norm=norm)\n",
    "    plt.show()\n",
    "\n",
    "def lineComparison(prefix, vals, title=\"\"):\n",
    "    from bokeh.palettes import Category10\n",
    "    from matplotlib.ticker import (MultipleLocator, AutoMinorLocator)\n",
    "\n",
    "    ax = plt.subplot()\n",
    "    ax.set_xticks(np.arange(10))\n",
    "    ax.set_ylabel(\"fitness\")\n",
    "    ax.set_xlabel(\"cut number\")\n",
    "    ax.set_title(title)\n",
    "\n",
    "    exp = lambda x: (1.09)**(x)\n",
    "    log = lambda x: np.log(x)/np.log(1.09)\n",
    "\n",
    "    ax.set_yscale('function', functions=(exp, log))\n",
    "\n",
    "    m = 0\n",
    "    for l,s in enumerate(vals):\n",
    "        means = []\n",
    "        df = pd.read_json(prefix+s+'_results.json').to_numpy()\n",
    "        for i in range(10):\n",
    "            m = max(np.nanmean(df[:,i]), m)\n",
    "            means.append(np.nanmean(df[:,i]))\n",
    "        ax.plot(means, c=Category10[10][l], label=s, alpha=1, lw=2.5)\n",
    "\n",
    "    mint = int(m)+1\n",
    "    ax.set(xlim=(-0.3,9.3), ylim=(0, mint))\n",
    "    ax.set_yticks([40]+np.arange( int(mint/5)*5-30,int(mint/5)*5+5,5).tolist()+[mint])\n",
    "    ax.yaxis.set_minor_locator(MultipleLocator(1))\n",
    "    ax.tick_params(which='major', length=5)\n",
    "    ax.grid(b=True, which='major', linestyle='-')\n",
    "    ax.grid(b=True, which='minor', linestyle=':')\n",
    "    plt.legend()\n",
    "    plt.show()"
   ]
  },
  {
   "cell_type": "code",
   "execution_count": null,
   "metadata": {},
   "outputs": [],
   "source": [
    "stdev = ['0.1','0.25','0.5','0.60','0.75','1.00']\n",
    "prefix = 'Genetic Algorithm wedge problem/stdev/stdev_'\n",
    "\n",
    "# heatMap(prefix, stdev, ylabel=\"std deviation\")\n",
    "lineComparison(prefix, stdev, title=\"std deviation comparison\")"
   ]
  },
  {
   "cell_type": "code",
   "execution_count": null,
   "metadata": {},
   "outputs": [],
   "source": [
    "crate = ['0','0.25','0.5','0.75','1']\n",
    "prefix = 'Genetic Algorithm wedge problem/cross_rate/cross_rate_'\n",
    "\n",
    "lineComparison(prefix, crate, title='crossover rate comparison (with regeneration)')"
   ]
  }
 ],
 "metadata": {
  "interpreter": {
   "hash": "66ec00c17016897b9d035f930a915551833694d4d1c1ae7ed40d4c50d2eb0d24"
  },
  "kernelspec": {
   "display_name": "Python 3.8.10 64-bit ('dataViz': conda)",
   "name": "python3"
  },
  "language_info": {
   "codemirror_mode": {
    "name": "ipython",
    "version": 3
   },
   "file_extension": ".py",
   "mimetype": "text/x-python",
   "name": "python",
   "nbconvert_exporter": "python",
   "pygments_lexer": "ipython3",
   "version": "3.8.10"
  },
  "orig_nbformat": 4
 },
 "nbformat": 4,
 "nbformat_minor": 2
}
